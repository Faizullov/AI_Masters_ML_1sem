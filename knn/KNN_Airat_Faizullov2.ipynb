{
  "nbformat": 4,
  "nbformat_minor": 0,
  "metadata": {
    "colab": {
      "provenance": [],
      "collapsed_sections": []
    },
    "kernelspec": {
      "name": "python3",
      "display_name": "Python 3"
    },
    "language_info": {
      "name": "python"
    }
  },
  "cells": [
    {
      "cell_type": "markdown",
      "source": [
        "# Большое практическое задание 1\n",
        "# Классификация изображений цифр метрическими методами\n",
        "\n",
        "## курс \"Машинное обучение 1\", программа AIMasters, 2022\n",
        "\n",
        "## Студент: Файзуллов Айрат Рафагатович"
      ],
      "metadata": {
        "id": "3xi860PnLsk-"
      }
    },
    {
      "cell_type": "code",
      "source": [
        "%load_ext autoreload\n",
        "\n",
        "%autoreload 2"
      ],
      "metadata": {
        "id": "m97r9hQyOQ1e"
      },
      "execution_count": null,
      "outputs": []
    },
    {
      "cell_type": "code",
      "source": [
        "import numpy as np\n",
        "import matplotlib.pyplot as plt\n",
        "import seaborn as sns\n",
        "import matplotlib.pyplot as plt\n",
        "plt.style.use('classic')\n",
        "%matplotlib inline\n",
        "import pandas as pd\n",
        "\n",
        "from knn.distances import euclidean_distance, cosine_distance \n",
        "from knn.classification import BatchedKNNClassifier\n",
        "from knn.model_selection import knn_cross_val_score"
      ],
      "metadata": {
        "id": "Nb45Gfn4M3yt"
      },
      "execution_count": null,
      "outputs": []
    },
    {
      "cell_type": "markdown",
      "source": [
        "### 1. Загрузка даннных\n",
        "\n",
        "Эксперименты этого задания необходимо проводить на датасете MNIST. Загрузить датасет можно при помощи функции `sklearn.datasets.fetch_openml(\"mnist_784\")`"
      ],
      "metadata": {
        "id": "BkC_TMY5P7l9"
      }
    },
    {
      "cell_type": "markdown",
      "source": [
        "Загружаем датасет mnist"
      ],
      "metadata": {
        "id": "cgjawiFZ59Vd"
      }
    },
    {
      "cell_type": "code",
      "source": [
        "import sklearn.datasets\n",
        "data = sklearn.datasets.fetch_openml(\"mnist_784\")"
      ],
      "metadata": {
        "id": "Qj-wW7O7O42R"
      },
      "execution_count": null,
      "outputs": []
    },
    {
      "cell_type": "markdown",
      "source": [
        "Разибваем датасет на обучающую и тестовую выборку"
      ],
      "metadata": {
        "id": "ZbR2JhPp5bw3"
      }
    },
    {
      "cell_type": "code",
      "source": [
        "Train = data['data'].values[:60000]\n",
        "Test = data['data'].values[60000:]"
      ],
      "metadata": {
        "id": "WB-Ldaz03bKN"
      },
      "execution_count": null,
      "outputs": []
    },
    {
      "cell_type": "markdown",
      "source": [
        "### 2. Исследование скорости методов поиска (4 балла)\n",
        "\n",
        "Исследуйте, какой алгоритм поиска ближайших соседей будет быстрее работать в различных ситуациях.\n",
        "\n",
        "Измерьте для каждого алгоритма поиска (`kd_tree`, `ball_tree`, `brute` и `my_own`) время нахождения 5 ближайших соседей для каждого объекта тестовой выборки по евклидовой метрике. Выберите подмножество признаков, по которому будет считаться расстояние, размера 10, 20, 100 (подмножество признаков выбирается один раз для всех объектов, случайно).\n"
      ],
      "metadata": {
        "id": "aOgchrb96F8Y"
      }
    },
    {
      "cell_type": "markdown",
      "source": [
        "Подсчитаем время для четырёх алгоритмов нахождения ближайших соседей"
      ],
      "metadata": {
        "id": "LR2IqLV7oC2o"
      }
    },
    {
      "cell_type": "code",
      "source": [
        "import time\n",
        "\n",
        "def count_time():   #function for counting time of kneighbours execution\n",
        "  my_own = []\n",
        "  brute = []\n",
        "  ball_tree = []\n",
        "  kd_tree = []\n",
        "  for i in (10, 20, 60, 100):\n",
        "    rand_5 = np.random.choice(784, i, replace=False) \n",
        "    rand = np.tile(rand_5, (60000, 1))\n",
        "    train_short = np.take_along_axis(Train, rand, axis=1)\n",
        "    rand = np.tile(rand_5, (10000, 1))\n",
        "    test_short = np.take_along_axis(Test, rand, axis=1)\n",
        "    class_count_neighbours = BatchedKNNClassifier(nearest_neighbours, algorithm='my_own',\n",
        "                                              metric='euclidean', weights='uniform',\n",
        "                                              batch_size=1000)\n",
        "    class_count_neighbours.fit(train_short)\n",
        "    start_time = time.time()\n",
        "    dist, ind = class_count_neighbours.kneighbors(test_short, return_distance=True)\n",
        "    my_own.append(time.time() - start_time)\n",
        "    class_count_neighbours = BatchedKNNClassifier(nearest_neighbours, algorithm='brute',\n",
        "                                              metric='euclidean', weights='uniform',\n",
        "                                              batch_size=1000)\n",
        "    class_count_neighbours.fit(train_short)\n",
        "    start_time = time.time()\n",
        "    dist, ind = class_count_neighbours.kneighbors(test_short, return_distance=True)\n",
        "    brute.append(time.time() - start_time)\n",
        "    class_count_neighbours = BatchedKNNClassifier(nearest_neighbours, algorithm='ball_tree',\n",
        "                                              metric='euclidean', weights='uniform',\n",
        "                                              batch_size=1000)\n",
        "    class_count_neighbours.fit(train_short)\n",
        "    start_time = time.time()\n",
        "    dist, ind = class_count_neighbours.kneighbors(test_short, return_distance=True)\n",
        "    ball_tree.append(time.time() - start_time)\n",
        "    class_count_neighbours = BatchedKNNClassifier(nearest_neighbours, algorithm='kd_tree',\n",
        "                                              metric='euclidean', weights='uniform',\n",
        "                                              batch_size=1000)\n",
        "    class_count_neighbours.fit(train_short)\n",
        "    start_time = time.time()\n",
        "    dist, ind = class_count_neighbours.kneighbors(test_short, return_distance=True)\n",
        "    kd_tree.append(time.time() - start_time)\n",
        "  return my_own, brute, ball_tree, kd_tree\n",
        "\n",
        "\n",
        "nearest_neighbours = 5\n",
        "class_count_neighbours = BatchedKNNClassifier(nearest_neighbours, algorithm='ball_tree',\n",
        "                                              metric='euclidean', weights='uniform',\n",
        "                                              batch_size=1000)\n",
        "time_my_own, time_brute, time_ball_tree, time_kd_tree = count_time()\n"
      ],
      "metadata": {
        "id": "LFrMpucDythY"
      },
      "execution_count": null,
      "outputs": []
    },
    {
      "cell_type": "markdown",
      "source": [
        "Посторим матрицу, составленную из времён затраченных на поиск ближайших соседей при различных алгоритмах"
      ],
      "metadata": {
        "id": "zcMq3wJysUCQ"
      }
    },
    {
      "cell_type": "code",
      "source": [
        "matrix_time = np.vstack((time_my_own, time_brute, time_ball_tree, time_kd_tree))"
      ],
      "metadata": {
        "id": "RZaucyiB6LKy"
      },
      "execution_count": null,
      "outputs": []
    },
    {
      "cell_type": "markdown",
      "source": [
        "Покажем результат в таблице"
      ],
      "metadata": {
        "id": "fCVrx_pUseUE"
      }
    },
    {
      "cell_type": "code",
      "source": [
        "import pandas as pd\n",
        "\n",
        "matrix_new = np.zeros(shape=(16, 2))\n",
        "matrix_new[:4, 0] = 10\n",
        "matrix_new[4:8, 0] = 20\n",
        "matrix_new[8:12, 0] = 60\n",
        "matrix_new[12:, 0] = 100\n",
        "matrix_new[:4, 1] = matrix_time[:, 0]\n",
        "matrix_new[4:8, 1] = matrix_time[:, 1]\n",
        "matrix_new[8:12, 1] = matrix_time[:, 2]\n",
        "matrix_new[12:, 1] = matrix_time[:, 3]\n",
        "lst_alg = ['my own', 'brute', 'ball tree', 'kd tree']*4\n",
        "df = pd.DataFrame(matrix_new, columns=['Features', 'Time']) \n",
        "df['Algorithm'] = lst_alg\n",
        "df_wide = df.pivot(index='Features', columns='Algorithm', values=\"Time\")\n",
        "df_wide"
      ],
      "metadata": {
        "colab": {
          "base_uri": "https://localhost:8080/",
          "height": 206
        },
        "id": "ijTakjrEnfjQ",
        "outputId": "ddd8defa-a8b3-440f-9581-86f532f19878"
      },
      "execution_count": null,
      "outputs": [
        {
          "output_type": "execute_result",
          "data": {
            "text/plain": [
              "Algorithm   ball tree      brute     kd tree     my own\n",
              "Features                                               \n",
              "10.0         6.708775  12.134619    2.325353  23.053449\n",
              "20.0        28.332890  12.554037    6.197906  24.247158\n",
              "60.0       130.856560  11.579634   75.062893  22.472139\n",
              "100.0      225.230137  13.862948  212.380853  24.391083"
            ],
            "text/html": [
              "\n",
              "  <div id=\"df-70b836a3-e86e-4da6-a68a-fd541cecbc07\">\n",
              "    <div class=\"colab-df-container\">\n",
              "      <div>\n",
              "<style scoped>\n",
              "    .dataframe tbody tr th:only-of-type {\n",
              "        vertical-align: middle;\n",
              "    }\n",
              "\n",
              "    .dataframe tbody tr th {\n",
              "        vertical-align: top;\n",
              "    }\n",
              "\n",
              "    .dataframe thead th {\n",
              "        text-align: right;\n",
              "    }\n",
              "</style>\n",
              "<table border=\"1\" class=\"dataframe\">\n",
              "  <thead>\n",
              "    <tr style=\"text-align: right;\">\n",
              "      <th>Algorithm</th>\n",
              "      <th>ball tree</th>\n",
              "      <th>brute</th>\n",
              "      <th>kd tree</th>\n",
              "      <th>my own</th>\n",
              "    </tr>\n",
              "    <tr>\n",
              "      <th>Features</th>\n",
              "      <th></th>\n",
              "      <th></th>\n",
              "      <th></th>\n",
              "      <th></th>\n",
              "    </tr>\n",
              "  </thead>\n",
              "  <tbody>\n",
              "    <tr>\n",
              "      <th>10.0</th>\n",
              "      <td>6.708775</td>\n",
              "      <td>12.134619</td>\n",
              "      <td>2.325353</td>\n",
              "      <td>23.053449</td>\n",
              "    </tr>\n",
              "    <tr>\n",
              "      <th>20.0</th>\n",
              "      <td>28.332890</td>\n",
              "      <td>12.554037</td>\n",
              "      <td>6.197906</td>\n",
              "      <td>24.247158</td>\n",
              "    </tr>\n",
              "    <tr>\n",
              "      <th>60.0</th>\n",
              "      <td>130.856560</td>\n",
              "      <td>11.579634</td>\n",
              "      <td>75.062893</td>\n",
              "      <td>22.472139</td>\n",
              "    </tr>\n",
              "    <tr>\n",
              "      <th>100.0</th>\n",
              "      <td>225.230137</td>\n",
              "      <td>13.862948</td>\n",
              "      <td>212.380853</td>\n",
              "      <td>24.391083</td>\n",
              "    </tr>\n",
              "  </tbody>\n",
              "</table>\n",
              "</div>\n",
              "      <button class=\"colab-df-convert\" onclick=\"convertToInteractive('df-70b836a3-e86e-4da6-a68a-fd541cecbc07')\"\n",
              "              title=\"Convert this dataframe to an interactive table.\"\n",
              "              style=\"display:none;\">\n",
              "        \n",
              "  <svg xmlns=\"http://www.w3.org/2000/svg\" height=\"24px\"viewBox=\"0 0 24 24\"\n",
              "       width=\"24px\">\n",
              "    <path d=\"M0 0h24v24H0V0z\" fill=\"none\"/>\n",
              "    <path d=\"M18.56 5.44l.94 2.06.94-2.06 2.06-.94-2.06-.94-.94-2.06-.94 2.06-2.06.94zm-11 1L8.5 8.5l.94-2.06 2.06-.94-2.06-.94L8.5 2.5l-.94 2.06-2.06.94zm10 10l.94 2.06.94-2.06 2.06-.94-2.06-.94-.94-2.06-.94 2.06-2.06.94z\"/><path d=\"M17.41 7.96l-1.37-1.37c-.4-.4-.92-.59-1.43-.59-.52 0-1.04.2-1.43.59L10.3 9.45l-7.72 7.72c-.78.78-.78 2.05 0 2.83L4 21.41c.39.39.9.59 1.41.59.51 0 1.02-.2 1.41-.59l7.78-7.78 2.81-2.81c.8-.78.8-2.07 0-2.86zM5.41 20L4 18.59l7.72-7.72 1.47 1.35L5.41 20z\"/>\n",
              "  </svg>\n",
              "      </button>\n",
              "      \n",
              "  <style>\n",
              "    .colab-df-container {\n",
              "      display:flex;\n",
              "      flex-wrap:wrap;\n",
              "      gap: 12px;\n",
              "    }\n",
              "\n",
              "    .colab-df-convert {\n",
              "      background-color: #E8F0FE;\n",
              "      border: none;\n",
              "      border-radius: 50%;\n",
              "      cursor: pointer;\n",
              "      display: none;\n",
              "      fill: #1967D2;\n",
              "      height: 32px;\n",
              "      padding: 0 0 0 0;\n",
              "      width: 32px;\n",
              "    }\n",
              "\n",
              "    .colab-df-convert:hover {\n",
              "      background-color: #E2EBFA;\n",
              "      box-shadow: 0px 1px 2px rgba(60, 64, 67, 0.3), 0px 1px 3px 1px rgba(60, 64, 67, 0.15);\n",
              "      fill: #174EA6;\n",
              "    }\n",
              "\n",
              "    [theme=dark] .colab-df-convert {\n",
              "      background-color: #3B4455;\n",
              "      fill: #D2E3FC;\n",
              "    }\n",
              "\n",
              "    [theme=dark] .colab-df-convert:hover {\n",
              "      background-color: #434B5C;\n",
              "      box-shadow: 0px 1px 3px 1px rgba(0, 0, 0, 0.15);\n",
              "      filter: drop-shadow(0px 1px 2px rgba(0, 0, 0, 0.3));\n",
              "      fill: #FFFFFF;\n",
              "    }\n",
              "  </style>\n",
              "\n",
              "      <script>\n",
              "        const buttonEl =\n",
              "          document.querySelector('#df-70b836a3-e86e-4da6-a68a-fd541cecbc07 button.colab-df-convert');\n",
              "        buttonEl.style.display =\n",
              "          google.colab.kernel.accessAllowed ? 'block' : 'none';\n",
              "\n",
              "        async function convertToInteractive(key) {\n",
              "          const element = document.querySelector('#df-70b836a3-e86e-4da6-a68a-fd541cecbc07');\n",
              "          const dataTable =\n",
              "            await google.colab.kernel.invokeFunction('convertToInteractive',\n",
              "                                                     [key], {});\n",
              "          if (!dataTable) return;\n",
              "\n",
              "          const docLinkHtml = 'Like what you see? Visit the ' +\n",
              "            '<a target=\"_blank\" href=https://colab.research.google.com/notebooks/data_table.ipynb>data table notebook</a>'\n",
              "            + ' to learn more about interactive tables.';\n",
              "          element.innerHTML = '';\n",
              "          dataTable['output_type'] = 'display_data';\n",
              "          await google.colab.output.renderOutput(dataTable, element);\n",
              "          const docLink = document.createElement('div');\n",
              "          docLink.innerHTML = docLinkHtml;\n",
              "          element.appendChild(docLink);\n",
              "        }\n",
              "      </script>\n",
              "    </div>\n",
              "  </div>\n",
              "  "
            ]
          },
          "metadata": {},
          "execution_count": 190
        }
      ]
    },
    {
      "cell_type": "markdown",
      "source": [
        "Покажем результат на графике"
      ],
      "metadata": {
        "id": "kW-Zzpb-smXm"
      }
    },
    {
      "cell_type": "code",
      "source": [
        "import seaborn as sns\n",
        "import matplotlib.pyplot as plt\n",
        "plt.style.use('classic')\n",
        "%matplotlib inline\n",
        "\n",
        "sns.relplot(data=df, x='Features', y='Time', hue='Algorithm', kind=\"line\")"
      ],
      "metadata": {
        "colab": {
          "base_uri": "https://localhost:8080/",
          "height": 387
        },
        "id": "_3-0sY3xspgA",
        "outputId": "06d06fdc-3144-430e-c75c-b5b7e1faaac9"
      },
      "execution_count": null,
      "outputs": [
        {
          "output_type": "execute_result",
          "data": {
            "text/plain": [
              "<seaborn.axisgrid.FacetGrid at 0x7f01c271c050>"
            ]
          },
          "metadata": {},
          "execution_count": 196
        },
        {
          "output_type": "display_data",
          "data": {
            "text/plain": [
              "<Figure size 453.2x360 with 1 Axes>"
            ],
            "image/png": "[encoded data removed]"
          },
          "metadata": {
            "needs_background": "light"
          }
        }
      ]
    },
    {
      "cell_type": "markdown",
      "source": [
        "1. Какой алгоритм сработал быстрее всего для каждого из размера подвыборок? Ожидали ли вы такие результаты до проведения эксперимента?\n"
      ],
      "metadata": {
        "id": "aNIQu8-xOAMY"
      }
    },
    {
      "cell_type": "markdown",
      "source": [
        "\n",
        "> Для малого кол-ва признаков эффективно работали kd tree и ball tree, когда кол-во признаков стонвится болше, то brute показывает себя как самый эффективный алгоритм.\n",
        "\n",
        "> Результат был ожидаем: kd tree и ball tree сильно страдают от проклятия размерности, т.к. для использования этих алгоритмов небходимо строить двоичные деревья (для kd tree разбиваем данные по декартовым осям, а при ball tree разбиваем данные на вложенные гиперсферы) и если признаков больше чем 20, то построение дерева уже проблематичено, т.к. разделять пространство большой размерности - трудоёмкий процесс. Но при малых размерностях kd tree и ball tree опережают брутфорс, т.к. дерево строить получается просто и быстро, и поиск по дереву осуществляется тоже очень быстро, в отличии от брутфорса.\n",
        "\n",
        ">Рассмотрим brute: брутфорс(перебор всех точек) эффективен если у нас малое кол-во образцов для исследования и т.к. в нашей задаче N = 70000, то брутфорс оказывается стабильным. И так же он не сильно зависит от кол-ва признаков\n",
        "\n",
        "> Рассмотрим my own: в нем был также реализован брутфорс, но он оказался не таким эффективным как brute, но ведет себя по асимптотике как brute\n",
        "\n"
      ],
      "metadata": {
        "id": "w8Jf5rynOFqO"
      }
    },
    {
      "cell_type": "markdown",
      "source": [
        "2. Приведите теоретическую сложность каждого из алгоритмов поиска. Согласуется ли время работы алгоритмов на практике с их теоретической вычислительной сложностью? Как вы думаете, почему?"
      ],
      "metadata": {
        "id": "yvUf4374dd1Y"
      }
    },
    {
      "cell_type": "markdown",
      "source": [
        "\n",
        "Пусть D - кол-во признаков, а N - кол-во образцов\n",
        "\n",
        "> Brute:\n",
        "Сложность при построении - $O(N^2 \\cdot D)$, т.к. нам надо подсчитать расстояниее между всеми векторами, и каждый вектор состоит из D элементов, а для подсчета евклидовой нормы необходимо совершить $O(D)$ действий. При запросе на нахождение соседа: $O(N \\cdot D)$, т.к. нам уже известны расстояния между векторами\n",
        "\n",
        "> Kd tree:\n",
        "Сложность при построении дерева $O(N \\cdot Dlog(D))$ - т.к. строили дерево. А для нахождения ближайших соседей через дерево нам необходимо сделать $O(N \\cdot D)$ при больших D\n",
        "\n",
        ">Ball tree:\n",
        "Сложность при построении дерева $O(N \\cdot Dlog(D))$ - т.к. строили дерево. А для нахождения ближайших соседей через дерево нам необходимо сделать $O(N \\cdot log(D))$ при больших D\n",
        "\n",
        "> Заметим, что производительность не согласуется с теорией, это происходит из-за проклятия размерности, т.к. при больших размерностях построение дерева становится неэффективным. У нас малое кол-во точек, и большая размерность, из-за чего тяжело и долго делить пространство большой размерности\n"
      ],
      "metadata": {
        "id": "SFDorzHohWxi"
      }
    },
    {
      "cell_type": "markdown",
      "source": [
        "3. Какой алгоритм исходя из результатов эксперимента следует использовать в дальнейшем? Выберите алгоритм поиска соседей, который вы будете использовать во всех экспериментах ниже. "
      ],
      "metadata": {
        "id": "1EqUvrEViX89"
      }
    },
    {
      "cell_type": "markdown",
      "source": [
        "\n",
        "\n",
        "> Т.к. N = 70000 и кол-во признаков равно 784, это нам подсказыват, что лучше использовать brute, т.к. brute будет работать стабильно при таких значениях N. \n",
        "\n",
        "> Не будем использовать my own, хоть он и асимптотически работает так же как и brute, т.к. в общем он работает медленнее.\n",
        "\n",
        "> Не будем использовать kd tree и ball tree, т.к. кол-во признаков у нас очень велико, а эти алгоритмы сильно страдают от проклятия размерности\n",
        "\n",
        "> Вывод: используем brute в дальнейшем\n",
        "\n",
        "\n",
        "\n",
        "\n",
        "\n"
      ],
      "metadata": {
        "id": "imQ5SUwtiYuR"
      }
    },
    {
      "cell_type": "markdown",
      "source": [
        "### 3. Исследование зависимости точности алгоритма на кросс-валидации \n",
        "\n",
        "\n",
        "Оцените по кросс-валидации с 3 фолдами точность (долю правильно предсказанных ответов) алгоритма k ближайших соседей в зависимости от следующих факторов:\n",
        "* количество соседей k от 1 до 10\n",
        "* используется евклидова или косинусная метрика"
      ],
      "metadata": {
        "id": "04f8UlXijtPM"
      }
    },
    {
      "cell_type": "markdown",
      "source": [
        "Создаем массив меток labels"
      ],
      "metadata": {
        "id": "ny67XzFKhVAg"
      }
    },
    {
      "cell_type": "code",
      "source": [
        "from sklearn.model_selection import KFold, BaseCrossValidator\n",
        "labels = np.array(list(map(int, data['target'].values)))\n",
        "cv_3 = KFold(n_splits=3)"
      ],
      "metadata": {
        "id": "e6SQZxJihVpq"
      },
      "execution_count": null,
      "outputs": []
    },
    {
      "cell_type": "markdown",
      "source": [
        "Кросс-валидация для косинусной метрики "
      ],
      "metadata": {
        "id": "HaHNj4dVw9j_"
      }
    },
    {
      "cell_type": "code",
      "source": [
        "dict_accuracy_cos = knn_cross_val_score(X=data['data'].values, y=labels, k_list=[1, 2, 3, 4, 5, 6, 7, 8, 9, 10], \n",
        "                                    scoring='accuracy', cv=cv_3,\n",
        "                                    algorithm='brute',\n",
        "                                    metric='cosine',\n",
        "                                    batch_size=1000)"
      ],
      "metadata": {
        "id": "hYyu_xJVeeoq"
      },
      "execution_count": null,
      "outputs": []
    },
    {
      "cell_type": "markdown",
      "source": [
        "Кросс-валидация для евклидовой метрики "
      ],
      "metadata": {
        "id": "CeRW5KoHw99g"
      }
    },
    {
      "cell_type": "code",
      "source": [
        "dict_accuracy_euclid = knn_cross_val_score(X=data['data'].values, y=labels, k_list=[1, 2, 3, 4, 5, 6, 7, 8, 9, 10], \n",
        "                                    scoring='accuracy', cv=cv_3,\n",
        "                                    algorithm='brute',\n",
        "                                    metric='euclidean',\n",
        "                                    batch_size=1000)"
      ],
      "metadata": {
        "id": "nWpKhA3rw-g2"
      },
      "execution_count": null,
      "outputs": []
    },
    {
      "cell_type": "markdown",
      "source": [
        "Посчитали среднее"
      ],
      "metadata": {
        "id": "s-Jvi1MIFf7C"
      }
    },
    {
      "cell_type": "code",
      "source": [
        "for i in dict_accuracy_cos.keys():\n",
        "  dict_accuracy_cos[i] = np.mean(dict_accuracy_cos[i])\n",
        "\n",
        "for i in dict_accuracy_euclid.keys():\n",
        "  dict_accuracy_euclid[i] = np.mean(dict_accuracy_euclid[i])\n"
      ],
      "metadata": {
        "id": "NiHA-3AIAxbJ"
      },
      "execution_count": null,
      "outputs": []
    },
    {
      "cell_type": "code",
      "source": [
        "keys_dict_accuracy_cos = list(dict_accuracy_cos.keys())\n",
        "values_dict_accuracy_cos = list(dict_accuracy_cos.values())\n",
        "keys_dict_accuracy_euclid = list(dict_accuracy_euclid.keys())\n",
        "values_dict_accuracy_euclid = list(dict_accuracy_euclid.values())\n",
        "name_cos = ['cosine']*10\n",
        "name_euclid = ['euclidean']*10\n",
        "df = pd.DataFrame(list(zip(keys_dict_accuracy_cos + keys_dict_accuracy_euclid, \n",
        "                           values_dict_accuracy_cos + values_dict_accuracy_euclid,\n",
        "                           name_cos + name_euclid)), \n",
        "                  columns =['Neighbours', 'accuracy', 'Metric'])\n",
        "sns.relplot(data=df, x='Neighbours', y='accuracy', hue=\"Metric\", kind=\"line\")"
      ],
      "metadata": {
        "colab": {
          "base_uri": "https://localhost:8080/",
          "height": 387
        },
        "id": "tLnF6vrkBZSH",
        "outputId": "1433f9f4-5052-4bf6-92e3-2d7c18bfba09"
      },
      "execution_count": null,
      "outputs": [
        {
          "output_type": "execute_result",
          "data": {
            "text/plain": [
              "<seaborn.axisgrid.FacetGrid at 0x7f8d4735e210>"
            ]
          },
          "metadata": {},
          "execution_count": 99
        },
        {
          "output_type": "display_data",
          "data": {
            "text/plain": [
              "<Figure size 461.575x360 with 1 Axes>"
            ],
            "image/png": "[encoded data removed]"
          },
          "metadata": {
            "needs_background": "light"
          }
        }
      ]
    },
    {
      "cell_type": "markdown",
      "source": [
        "1. По результатам эксперимента, какие гиперпараметры вы считаете наиболее оптимальными? Обоснуйте свой выбор (например, если у вас несколько наборов параметров с высоким качеством, обоснуйте как вы выберите среди этих наборов один).\n",
        "\n",
        "  "
      ],
      "metadata": {
        "id": "C90lbllaKcqQ"
      }
    },
    {
      "cell_type": "markdown",
      "source": [
        "> Как видно из графиков: наиболее опитмольно выбирать для кол-ва соседей значение 1 или 3, т.к. на 2 у нас резкое падение вниз, а после 3 можно увидеть как качество плавно ухудшается.\n",
        "\n",
        "> Если два параметра дают приблизительно одинаково высокое качество, то я выберу тот, который дает более стабильную точность на фолдах."
      ],
      "metadata": {
        "id": "O8WjbsM0Khqm"
      }
    },
    {
      "cell_type": "markdown",
      "source": [
        "2. Какая метрика лучше себя показала в экспериментах? Можете ли вы объяснить, почему?\n",
        "\n",
        "    "
      ],
      "metadata": {
        "id": "MP60oRQwLM7g"
      }
    },
    {
      "cell_type": "markdown",
      "source": [
        "> Видно что косинусная метрика показала себя лучше евклидовой метрики. У нас выборка только из 70000 образцов, а признаков довольно много: 784, из-за этого проявляется проклятие размерности, когда нам нужен большой датасет для определения класса вектора. \n",
        "\n",
        "> Т.к. при евклидовой метрике мы напрямую считаем расстояние между векторами, а при косинусной метрике мы получаем косинус угла между ними, т.е. с помошью косинусной метрики мы получаем больше информации при большой размерности пространства"
      ],
      "metadata": {
        "id": "IG2KUIrpLjbT"
      }
    },
    {
      "cell_type": "markdown",
      "source": [
        "   \n",
        "3. Есть ли на графике зависимости точности от количество соседей \"выбросы\", резкие падения/повышения качества для одного значения k по сравнению с соседними? Если да, предположите причину появления этих выбросов."
      ],
      "metadata": {
        "id": "trBKV3amQDYq"
      }
    },
    {
      "cell_type": "markdown",
      "source": [
        "> На графике можно заметить резкие падения и повышения качества при различных значениях k. При больших k, точность начинает постепенно падать, т.к. мы выбираем слишком много ближайших соседей, и у нас могут быть цифры, которые визуально похожи друг на друга, например: 1 и 7 и из-за этого при большом кол-ве ближайших соседей вероятность набрать ошибочно похожих цифр возрастает.\n",
        "\n",
        "> При 2 у нас резкое падение, это можно объяснить аналогичным образом как было написано выше, только при случае 2ух соседей нам достаточно всего одного соседа, который не будет похож на исследуемый вектор.\n",
        "\n",
        "> При 3 у нас скачок, т.к. это нечетное кол-во соседей(и вообще можно заметить что при нечтном кол-ве k точность улучшается или не сильно ухудшается), что позваляет более точно узнать какой цифрой явлется наш исселдуемый вектор, и 3 не является очень большим значением, чтобы столкунуться с проблемой как в пункте, который был расписан выше"
      ],
      "metadata": {
        "id": "INdEda25QZLp"
      }
    },
    {
      "cell_type": "markdown",
      "source": [
        "### 3. Исследование зависимости точности взвешенного алгоритма на кросс-валидации (4 балла)\n",
        "\n",
        "По результатам предыдущего эксперимента выберите метрику, которую вы будете использовать в этом эксперименте.\n",
        "\n",
        "Оцените по кросс-валидации с 3 фолдами точность (долю правильно предсказанных ответов) взвешенного алгоритма k ближайших соседей в зависимости от количество соседей k (от 1 до 10).\n",
        "\n",
        "Голос объекта положите равным `1 / (distance + eps)`, где `eps` = `1e-5`."
      ],
      "metadata": {
        "id": "-9UANNolQNTF"
      }
    },
    {
      "cell_type": "markdown",
      "source": [
        "Кросс-валидация для косинусной метрики с весами"
      ],
      "metadata": {
        "id": "Hff0ojWVY6B_"
      }
    },
    {
      "cell_type": "code",
      "source": [
        "dict_accuracy_cos_dist = knn_cross_val_score(X=data['data'].values, y=labels, \n",
        "                                            k_list=[1, 2, 3, 4, 5, 6, 7, 8, 9, 10], \n",
        "                                            scoring='accuracy', cv=cv_3,\n",
        "                                            algorithm='brute',\n",
        "                                            metric='cosine',\n",
        "                                            weights='distance',\n",
        "                                            batch_size=1000)"
      ],
      "metadata": {
        "id": "Q8usHw2W25SH"
      },
      "execution_count": null,
      "outputs": []
    },
    {
      "cell_type": "markdown",
      "source": [
        "Кросс-валидация для евклидовой метрики с весами"
      ],
      "metadata": {
        "id": "CPJe0eS2Y-bG"
      }
    },
    {
      "cell_type": "code",
      "source": [
        "dict_accuracy_euclid_dist = knn_cross_val_score(X=data['data'].values, y=labels, \n",
        "                                                k_list=[1, 2, 3, 4, 5, 6, 7, 8, 9, 10], \n",
        "                                                scoring='accuracy', cv=cv_3,\n",
        "                                                algorithm='brute',\n",
        "                                                metric='euclidean',\n",
        "                                                weights='distance')"
      ],
      "metadata": {
        "id": "cMLqF_Pi5xPw"
      },
      "execution_count": null,
      "outputs": []
    },
    {
      "cell_type": "markdown",
      "source": [
        "Посчитаем среднее для весов"
      ],
      "metadata": {
        "id": "0_jWyDh6e1Xc"
      }
    },
    {
      "cell_type": "code",
      "source": [
        "dict_accuracy_cos_dist_mean = {}\n",
        "dict_accuracy_euclid_dist_mean = {}\n",
        "for i in dict_accuracy_cos.keys():\n",
        "  dict_accuracy_cos_dist_mean[i] = np.mean(dict_accuracy_cos_dist[i])\n",
        "\n",
        "for i in dict_accuracy_euclid.keys():\n",
        "  dict_accuracy_euclid_dist_mean[i] = np.mean(dict_accuracy_euclid_dist[i])"
      ],
      "metadata": {
        "id": "9Tu7rhsGZbK-"
      },
      "execution_count": null,
      "outputs": []
    },
    {
      "cell_type": "markdown",
      "source": [
        "Покажем результаты точностей на графике"
      ],
      "metadata": {
        "id": "1KlHziZkeqTJ"
      }
    },
    {
      "cell_type": "code",
      "source": [
        "keys_dict_accuracy_cos = list(dict_accuracy_cos_dist_mean.keys())\n",
        "values_dict_accuracy_cos = list(dict_accuracy_cos_dist_mean.values())\n",
        "keys_dict_accuracy_euclid = list(dict_accuracy_euclid_dist_mean.keys())\n",
        "values_dict_accuracy_euclid = list(dict_accuracy_euclid_dist_mean.values())\n",
        "name_cos = ['cosine']*10\n",
        "name_euclid = ['euclidean']*10\n",
        "df = pd.DataFrame(list(zip(keys_dict_accuracy_cos + keys_dict_accuracy_euclid, \n",
        "                           values_dict_accuracy_cos + values_dict_accuracy_euclid,\n",
        "                           name_cos + name_euclid)), \n",
        "                  columns =['Neighbours', 'accuracy', 'Metric'])\n",
        "sns.relplot(data=df, x='Neighbours', y='accuracy', hue=\"Metric\", kind=\"line\")"
      ],
      "metadata": {
        "colab": {
          "base_uri": "https://localhost:8080/",
          "height": 387
        },
        "id": "CgXRLrvBaJLC",
        "outputId": "91064f60-ad36-4540-bef0-5aa863dcd11e"
      },
      "execution_count": null,
      "outputs": [
        {
          "output_type": "execute_result",
          "data": {
            "text/plain": [
              "<seaborn.axisgrid.FacetGrid at 0x7f8d46f70950>"
            ]
          },
          "metadata": {},
          "execution_count": 115
        },
        {
          "output_type": "display_data",
          "data": {
            "text/plain": [
              "<Figure size 461.575x360 with 1 Axes>"
            ],
            "image/png": "[encoded data removed]"
          },
          "metadata": {
            "needs_background": "light"
          }
        }
      ]
    },
    {
      "cell_type": "markdown",
      "source": [
        "1. По результатам эксперимента, какие гиперпараметры вы считаете наиболее оптимальными? Обоснуйте свой выбор.\n"
      ],
      "metadata": {
        "id": "cXn-eW87epAH"
      }
    },
    {
      "cell_type": "markdown",
      "source": [
        "> По графику видно, что наибольшая точность достигается при k=4. Поэтомы выбор значения 4 будет оптимальным"
      ],
      "metadata": {
        "id": "OJK1H9ncfFZM"
      }
    },
    {
      "cell_type": "markdown",
      "source": [
        "2. Сравните результаты взвешенного алгоритма с невзвешенным. Объясните разницу/отсутствие разницы в результатах.\n"
      ],
      "metadata": {
        "id": "Fe2h8jvGfPns"
      }
    },
    {
      "cell_type": "markdown",
      "source": [
        "> Видно что с помощью взвешенного алгоритма можно добиться большей точности. Это объясняется тем, что мы используем веса, т.е. векторы которые лежат ближе к исследуемому вектору вносят больший вклад в определение класса у исследуемого объекта, что и повышает точность.\n",
        "\n",
        "> Заметим, что теперь четное значение k дает лучшую точность, в отличие от прошлого эксперимента, т.к. если у нас равное кол-во разных векторов среди ближайших соседей, то мы выберем класс как у тех векторов, которые лежат ближе, что позволяет избегать ошибок как в прошлом опыте и благодаря этому использовать четное k выгоднее. Благодаря этому оптимальный выбор k сдвигается с 3 на 4"
      ],
      "metadata": {
        "id": "JDNrdwkGffcJ"
      }
    },
    {
      "cell_type": "markdown",
      "source": [
        "### 4. Применение алгоритма и интерпретация ошибок\n",
        "\n",
        "1. Примените лучший алгоритм к исходной обучающей и тестовой выборке и посчитайте точность классификации. Сравните с точностью по кросс-валидации. Опишите ваши результаты."
      ],
      "metadata": {
        "id": "AXwikgTfgqm0"
      }
    },
    {
      "cell_type": "markdown",
      "source": [
        "Создаем список меток для теструемой и обучающей выборки"
      ],
      "metadata": {
        "id": "z2hq5h-IjOkr"
      }
    },
    {
      "cell_type": "code",
      "source": [
        "labels_train = labels[:60000]\n",
        "labels_test = labels[60000:]"
      ],
      "metadata": {
        "id": "feCMwz1riqSM"
      },
      "execution_count": null,
      "outputs": []
    },
    {
      "cell_type": "markdown",
      "source": [
        "Создаем объект класса BatchedKNNClassifier, с помощью которого предскажем метки в тестовой выборке"
      ],
      "metadata": {
        "id": "GkqpVNiZjPlL"
      }
    },
    {
      "cell_type": "code",
      "source": [
        "optimistic_class = BatchedKNNClassifier(n_neighbors=4, algorithm='brute', weights='distance', \n",
        "                                        batch_size=1000, metric='cosine')\n",
        "optimistic_class.fit(Train, labels_train)"
      ],
      "metadata": {
        "colab": {
          "base_uri": "https://localhost:8080/"
        },
        "id": "9j3yLVbkjQDm",
        "outputId": "1e6f6ae1-5c0d-4382-eb04-d4093cee3451"
      },
      "execution_count": null,
      "outputs": [
        {
          "output_type": "execute_result",
          "data": {
            "text/plain": [
              "<knn.classification.BatchedKNNClassifier at 0x7f8d46ea4d10>"
            ]
          },
          "metadata": {},
          "execution_count": 125
        }
      ]
    },
    {
      "cell_type": "markdown",
      "source": [
        "Найдем предсказанные метки"
      ],
      "metadata": {
        "id": "v05SfA_7kFtf"
      }
    },
    {
      "cell_type": "code",
      "source": [
        "labels_pred = optimistic_class.predict(Test)"
      ],
      "metadata": {
        "id": "p--WtnwNkGM-"
      },
      "execution_count": null,
      "outputs": []
    },
    {
      "cell_type": "markdown",
      "source": [
        "Выведем качество предсказания"
      ],
      "metadata": {
        "id": "3pJsD1UYlYb6"
      }
    },
    {
      "cell_type": "code",
      "source": [
        "from sklearn.metrics import accuracy_score\n",
        "print(\"accuracy = \", accuracy_score(labels_test, labels_pred))"
      ],
      "metadata": {
        "colab": {
          "base_uri": "https://localhost:8080/"
        },
        "id": "ZzJpuBSekpdN",
        "outputId": "34c609d7-f58a-4593-d88f-17781552dbdf"
      },
      "execution_count": null,
      "outputs": [
        {
          "output_type": "stream",
          "name": "stdout",
          "text": [
            "accuracy =  0.9752\n"
          ]
        }
      ]
    },
    {
      "cell_type": "markdown",
      "source": [
        "Можно увидеть, что результат превосходит лучшую точность на кросс-валидации. Это связано с тем, что мы выбрали лучшие аргументы для создания объкта класса BatchedKNNClassifier. И при кросс-валидации выборка делится на обучающую и тестируюмую, обучающая составляет 2/3 всех векторов (около 460000 объектов), а тестируемая 1/3 (около 24000), что сильно отличается от нашего последнего предскзаания, где векторов для обучения было 60000, а тестируемых векторов было 10000, что позволяет добиться лучшего качества. "
      ],
      "metadata": {
        "id": "p_h0C_uhlwIi"
      }
    },
    {
      "cell_type": "markdown",
      "source": [
        "2. Постройте и проанализируйте матрицу ошибок (confusion matrix), используйте функцию `sklearn.metrics.confusion_matrix`. Визуализируйте несколько объектов из тестовой выборки, на которых были допущены ошибки. Проанализируйте и укажите их общие черты."
      ],
      "metadata": {
        "id": "HWCwXUmrm2gG"
      }
    },
    {
      "cell_type": "markdown",
      "source": [
        "Построили матрицу ошибок"
      ],
      "metadata": {
        "id": "HT3BKPzNqnvP"
      }
    },
    {
      "cell_type": "code",
      "source": [
        "from sklearn.metrics import confusion_matrix\n",
        "print(confusion_matrix(labels_test, labels_pred))"
      ],
      "metadata": {
        "colab": {
          "base_uri": "https://localhost:8080/"
        },
        "id": "pZef2wD5nFQQ",
        "outputId": "692fd067-61d2-46dd-cc86-66c8939337b3"
      },
      "execution_count": 148,
      "outputs": [
        {
          "output_type": "stream",
          "name": "stdout",
          "text": [
            "[[ 977    1    0    0    0    0    1    1    0    0]\n",
            " [   0 1129    3    1    0    0    2    0    0    0]\n",
            " [   8    0 1009    1    1    0    0    8    5    0]\n",
            " [   0    1    3  976    1   12    0    4    9    4]\n",
            " [   2    1    0    0  946    0    6    2    0   25]\n",
            " [   4    0    0    9    1  863    7    1    4    3]\n",
            " [   3    3    0    0    1    3  948    0    0    0]\n",
            " [   2   10    4    0    1    0    0  998    0   13]\n",
            " [   7    1    2    9    3    3    5    4  936    4]\n",
            " [   7    7    2    5    7    3    1    4    3  970]]\n"
          ]
        }
      ]
    },
    {
      "cell_type": "markdown",
      "source": [
        "Видно, что часто путаются цифры 4 и 9, 7 и 9, 3 и 5. Это кажется предсказуемым, т.к. эти цифры и правда визуально схожи"
      ],
      "metadata": {
        "id": "OFGUBo6TqsUT"
      }
    },
    {
      "cell_type": "markdown",
      "source": [
        "Найдем индексы векторов, которые неверно предсказались"
      ],
      "metadata": {
        "id": "IE4FHmziLx2l"
      }
    },
    {
      "cell_type": "code",
      "source": [
        "index_test = np.argwhere(labels_test==4)\n",
        "index_pred = np.argwhere(labels_pred==9)\n",
        "arr_intersection = np.intersect1d(index_pred.T.ravel(), index_test.T.ravel())"
      ],
      "metadata": {
        "id": "RXcN64cJ3w1u"
      },
      "execution_count": 207,
      "outputs": []
    },
    {
      "cell_type": "markdown",
      "source": [
        "Покажем как выглядит четверка, которая предсказалась как 9"
      ],
      "metadata": {
        "id": "0LZ_XkoTRyij"
      }
    },
    {
      "cell_type": "code",
      "source": [
        "ax = sns.heatmap(np.reshape(data['data'].values[arr_intersection[0]], (28, 28)), linewidth=0.5)\n",
        "plt.show()"
      ],
      "metadata": {
        "colab": {
          "base_uri": "https://localhost:8080/",
          "height": 268
        },
        "id": "77GY1emnMmTs",
        "outputId": "e98394a0-cd31-4a9a-b1bd-7a9d578ec5e2"
      },
      "execution_count": 201,
      "outputs": [
        {
          "output_type": "display_data",
          "data": {
            "text/plain": [
              "<Figure size 432x288 with 2 Axes>"
            ],
            "image/png": "[encoded data removed]"
          },
          "metadata": {
            "needs_background": "light"
          }
        }
      ]
    },
    {
      "cell_type": "markdown",
      "source": [
        "Ещё одна 4 которая предсказалась как 9"
      ],
      "metadata": {
        "id": "3GZcRx6SR3zC"
      }
    },
    {
      "cell_type": "code",
      "source": [
        "ax = sns.heatmap(np.reshape(data['data'].values[arr_intersection[2]], (28, 28)), linewidth=0.5)\n",
        "plt.show()"
      ],
      "metadata": {
        "colab": {
          "base_uri": "https://localhost:8080/",
          "height": 268
        },
        "id": "rYnPTdbZOQHh",
        "outputId": "964779e7-4470-4941-8127-01b62bb43084"
      },
      "execution_count": 209,
      "outputs": [
        {
          "output_type": "display_data",
          "data": {
            "text/plain": [
              "<Figure size 432x288 with 2 Axes>"
            ],
            "image/png": "[encoded data removed]"
          },
          "metadata": {
            "needs_background": "light"
          }
        }
      ]
    },
    {
      "cell_type": "code",
      "source": [
        "%%shell\n",
        "jupyter nbconvert --to html /content/sample_data/KNN_Airat_Faizullov1.ipynb"
      ],
      "metadata": {
        "colab": {
          "base_uri": "https://localhost:8080/"
        },
        "id": "qwGD2fakvn5H",
        "outputId": "f020e41a-bb65-4a7b-c489-55cb91cc5571"
      },
      "execution_count": null,
      "outputs": [
        {
          "output_type": "stream",
          "name": "stdout",
          "text": [
            "[NbConvertApp] Converting notebook /content/sample_data/KNN_Airat_Faizullov1.ipynb to html\n",
            "[NbConvertApp] Writing 421613 bytes to /content/sample_data/KNN_Airat_Faizullov1.html\n"
          ]
        },
        {
          "output_type": "execute_result",
          "data": {
            "text/plain": []
          },
          "metadata": {},
          "execution_count": 147
        }
      ]
    }
  ]
}